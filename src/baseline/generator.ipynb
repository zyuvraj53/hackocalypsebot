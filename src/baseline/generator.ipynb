{
 "cells": [
  {
   "cell_type": "code",
   "execution_count": 107,
   "metadata": {},
   "outputs": [],
   "source": [
    "import langchain_community \n",
    "import langchain\n",
    "import langchain_openai"
   ]
  },
  {
   "cell_type": "code",
   "execution_count": 108,
   "metadata": {},
   "outputs": [],
   "source": [
    "import os\n",
    "os.environ['LANGCHAIN_TRACING_V2'] = 'true'\n",
    "os.environ['LANGCHAIN_ENDPOINT'] = 'https://api.smith.langchain.com'\n",
    "os.environ['LANGCHAIN_API_KEY'] = '<api-key>'"
   ]
  },
  {
   "cell_type": "code",
   "execution_count": 109,
   "metadata": {},
   "outputs": [],
   "source": []
  },
  {
   "cell_type": "code",
   "execution_count": 110,
   "metadata": {},
   "outputs": [],
   "source": [
    "os.environ['OPENAI_API_KEY'] = '<api-key>'"
   ]
  },
  {
   "cell_type": "code",
   "execution_count": 111,
   "metadata": {},
   "outputs": [
    {
     "name": "stdout",
     "output_type": "stream",
     "text": [
      "[{'monster_id': 'deathclaw_1', 'lon': 85.5487, 'lat': 17.9072}, {'monster_id': 'deathclaw_2', 'lon': 87.3032, 'lat': 19.4866}, {'monster_id': 'super_mutant_1', 'lon': 83.1134, 'lat': 19.163}, {'monster_id': 'super_mutant_2', 'lon': 82.8223, 'lat': 18.762}, {'monster_id': 'super_mutant_3', 'lon': 87.0667, 'lat': 20.6589}, {'monster_id': 'super_mutant_4', 'lon': 83.4131, 'lat': 22.1663}, {'monster_id': 'super_mutant_5', 'lon': 81.6439, 'lat': 18.7261}, {'monster_id': 'radscorpion_1', 'lon': 87.2045, 'lat': 18.7888}, {'monster_id': 'radscorpion_2', 'lon': 86.0467, 'lat': 21.2248}, {'monster_id': 'radscorpion_3', 'lon': 86.5529, 'lat': 21.1394}, {'monster_id': 'radscorpion_4', 'lon': 83.6146, 'lat': 20.4416}, {'monster_id': 'yao_guai_1', 'lon': 85.4507, 'lat': 18.2524}, {'monster_id': 'yao_guai_2', 'lon': 83.6133, 'lat': 21.7572}, {'monster_id': 'yao_guai_3', 'lon': 86.3814, 'lat': 20.8939}, {'monster_id': 'feral_ghoul_1', 'lon': 85.8137, 'lat': 21.4151}, {'monster_id': 'feral_ghoul_2', 'lon': 85.5343, 'lat': 20.9202}, {'monster_id': 'feral_ghoul_3', 'lon': 86.8472, 'lat': 20.7869}, {'monster_id': 'feral_ghoul_4', 'lon': 85.4349, 'lat': 19.4718}, {'monster_id': 'feral_ghoul_5', 'lon': 86.4426, 'lat': 18.493}, {'monster_id': 'feral_ghoul_6', 'lon': 86.6467, 'lat': 18.0319}, {'monster_id': 'mirelurk_1', 'lon': 86.3929, 'lat': 21.1729}, {'monster_id': 'mirelurk_2', 'lon': 81.5449, 'lat': 18.1102}, {'monster_id': 'mirelurk_3', 'lon': 86.748, 'lat': 20.4998}, {'monster_id': 'mirelurk_4', 'lon': 87.4568, 'lat': 22.1243}, {'monster_id': 'cazador_1', 'lon': 86.1059, 'lat': 21.049}, {'monster_id': 'cazador_2', 'lon': 84.721, 'lat': 21.9879}, {'monster_id': 'cazador_3', 'lon': 84.6053, 'lat': 20.6484}, {'monster_id': 'nightstalker_1', 'lon': 86.8436, 'lat': 20.5998}, {'monster_id': 'nightstalker_2', 'lon': 83.8033, 'lat': 21.2019}, {'monster_id': 'bloatfly_1', 'lon': 84.8867, 'lat': 19.2709}, {'monster_id': 'bloatfly_2', 'lon': 87.1676, 'lat': 19.6502}, {'monster_id': 'bloatfly_3', 'lon': 87.1801, 'lat': 18.9548}, {'monster_id': 'bloatfly_4', 'lon': 87.0401, 'lat': 18.7122}, {'monster_id': 'bloatfly_5', 'lon': 82.6697, 'lat': 22.0004}, {'monster_id': 'centaur_1', 'lon': 84.5509, 'lat': 19.4186}, {'monster_id': 'centaur_2', 'lon': 84.6746, 'lat': 20.9231}]\n"
     ]
    }
   ],
   "source": [
    "import json\n",
    "\n",
    "# Load the JSON data\n",
    "with open(\"../../monsters_response.json\", \"r\") as file:\n",
    "    json_data = json.load(file)\n",
    "\n",
    "# Extract the monsters list\n",
    "monsters = json_data[\"monsters\"]\n",
    "\n",
    "print(monsters)"
   ]
  },
  {
   "cell_type": "code",
   "execution_count": 112,
   "metadata": {},
   "outputs": [
    {
     "name": "stdout",
     "output_type": "stream",
     "text": [
      "page_content='Monster ID: deathclaw_1, Location: (17.9072, 85.5487)' metadata={'monster_id': 'deathclaw_1', 'latitude': 17.9072, 'longitude': 85.5487}\n",
      "page_content='Monster ID: deathclaw_2, Location: (19.4866, 87.3032)' metadata={'monster_id': 'deathclaw_2', 'latitude': 19.4866, 'longitude': 87.3032}\n",
      "page_content='Monster ID: super_mutant_1, Location: (19.163, 83.1134)' metadata={'monster_id': 'super_mutant_1', 'latitude': 19.163, 'longitude': 83.1134}\n",
      "page_content='Monster ID: super_mutant_2, Location: (18.762, 82.8223)' metadata={'monster_id': 'super_mutant_2', 'latitude': 18.762, 'longitude': 82.8223}\n",
      "page_content='Monster ID: super_mutant_3, Location: (20.6589, 87.0667)' metadata={'monster_id': 'super_mutant_3', 'latitude': 20.6589, 'longitude': 87.0667}\n",
      "page_content='Monster ID: super_mutant_4, Location: (22.1663, 83.4131)' metadata={'monster_id': 'super_mutant_4', 'latitude': 22.1663, 'longitude': 83.4131}\n",
      "page_content='Monster ID: super_mutant_5, Location: (18.7261, 81.6439)' metadata={'monster_id': 'super_mutant_5', 'latitude': 18.7261, 'longitude': 81.6439}\n",
      "page_content='Monster ID: radscorpion_1, Location: (18.7888, 87.2045)' metadata={'monster_id': 'radscorpion_1', 'latitude': 18.7888, 'longitude': 87.2045}\n",
      "page_content='Monster ID: radscorpion_2, Location: (21.2248, 86.0467)' metadata={'monster_id': 'radscorpion_2', 'latitude': 21.2248, 'longitude': 86.0467}\n",
      "page_content='Monster ID: radscorpion_3, Location: (21.1394, 86.5529)' metadata={'monster_id': 'radscorpion_3', 'latitude': 21.1394, 'longitude': 86.5529}\n",
      "page_content='Monster ID: radscorpion_4, Location: (20.4416, 83.6146)' metadata={'monster_id': 'radscorpion_4', 'latitude': 20.4416, 'longitude': 83.6146}\n",
      "page_content='Monster ID: yao_guai_1, Location: (18.2524, 85.4507)' metadata={'monster_id': 'yao_guai_1', 'latitude': 18.2524, 'longitude': 85.4507}\n",
      "page_content='Monster ID: yao_guai_2, Location: (21.7572, 83.6133)' metadata={'monster_id': 'yao_guai_2', 'latitude': 21.7572, 'longitude': 83.6133}\n",
      "page_content='Monster ID: yao_guai_3, Location: (20.8939, 86.3814)' metadata={'monster_id': 'yao_guai_3', 'latitude': 20.8939, 'longitude': 86.3814}\n",
      "page_content='Monster ID: feral_ghoul_1, Location: (21.4151, 85.8137)' metadata={'monster_id': 'feral_ghoul_1', 'latitude': 21.4151, 'longitude': 85.8137}\n",
      "page_content='Monster ID: feral_ghoul_2, Location: (20.9202, 85.5343)' metadata={'monster_id': 'feral_ghoul_2', 'latitude': 20.9202, 'longitude': 85.5343}\n",
      "page_content='Monster ID: feral_ghoul_3, Location: (20.7869, 86.8472)' metadata={'monster_id': 'feral_ghoul_3', 'latitude': 20.7869, 'longitude': 86.8472}\n",
      "page_content='Monster ID: feral_ghoul_4, Location: (19.4718, 85.4349)' metadata={'monster_id': 'feral_ghoul_4', 'latitude': 19.4718, 'longitude': 85.4349}\n",
      "page_content='Monster ID: feral_ghoul_5, Location: (18.493, 86.4426)' metadata={'monster_id': 'feral_ghoul_5', 'latitude': 18.493, 'longitude': 86.4426}\n",
      "page_content='Monster ID: feral_ghoul_6, Location: (18.0319, 86.6467)' metadata={'monster_id': 'feral_ghoul_6', 'latitude': 18.0319, 'longitude': 86.6467}\n",
      "page_content='Monster ID: mirelurk_1, Location: (21.1729, 86.3929)' metadata={'monster_id': 'mirelurk_1', 'latitude': 21.1729, 'longitude': 86.3929}\n",
      "page_content='Monster ID: mirelurk_2, Location: (18.1102, 81.5449)' metadata={'monster_id': 'mirelurk_2', 'latitude': 18.1102, 'longitude': 81.5449}\n",
      "page_content='Monster ID: mirelurk_3, Location: (20.4998, 86.748)' metadata={'monster_id': 'mirelurk_3', 'latitude': 20.4998, 'longitude': 86.748}\n",
      "page_content='Monster ID: mirelurk_4, Location: (22.1243, 87.4568)' metadata={'monster_id': 'mirelurk_4', 'latitude': 22.1243, 'longitude': 87.4568}\n",
      "page_content='Monster ID: cazador_1, Location: (21.049, 86.1059)' metadata={'monster_id': 'cazador_1', 'latitude': 21.049, 'longitude': 86.1059}\n",
      "page_content='Monster ID: cazador_2, Location: (21.9879, 84.721)' metadata={'monster_id': 'cazador_2', 'latitude': 21.9879, 'longitude': 84.721}\n",
      "page_content='Monster ID: cazador_3, Location: (20.6484, 84.6053)' metadata={'monster_id': 'cazador_3', 'latitude': 20.6484, 'longitude': 84.6053}\n",
      "page_content='Monster ID: nightstalker_1, Location: (20.5998, 86.8436)' metadata={'monster_id': 'nightstalker_1', 'latitude': 20.5998, 'longitude': 86.8436}\n",
      "page_content='Monster ID: nightstalker_2, Location: (21.2019, 83.8033)' metadata={'monster_id': 'nightstalker_2', 'latitude': 21.2019, 'longitude': 83.8033}\n",
      "page_content='Monster ID: bloatfly_1, Location: (19.2709, 84.8867)' metadata={'monster_id': 'bloatfly_1', 'latitude': 19.2709, 'longitude': 84.8867}\n",
      "page_content='Monster ID: bloatfly_2, Location: (19.6502, 87.1676)' metadata={'monster_id': 'bloatfly_2', 'latitude': 19.6502, 'longitude': 87.1676}\n",
      "page_content='Monster ID: bloatfly_3, Location: (18.9548, 87.1801)' metadata={'monster_id': 'bloatfly_3', 'latitude': 18.9548, 'longitude': 87.1801}\n",
      "page_content='Monster ID: bloatfly_4, Location: (18.7122, 87.0401)' metadata={'monster_id': 'bloatfly_4', 'latitude': 18.7122, 'longitude': 87.0401}\n",
      "page_content='Monster ID: bloatfly_5, Location: (22.0004, 82.6697)' metadata={'monster_id': 'bloatfly_5', 'latitude': 22.0004, 'longitude': 82.6697}\n",
      "page_content='Monster ID: centaur_1, Location: (19.4186, 84.5509)' metadata={'monster_id': 'centaur_1', 'latitude': 19.4186, 'longitude': 84.5509}\n",
      "page_content='Monster ID: centaur_2, Location: (20.9231, 84.6746)' metadata={'monster_id': 'centaur_2', 'latitude': 20.9231, 'longitude': 84.6746}\n"
     ]
    }
   ],
   "source": [
    "from langchain_core.documents import Document\n",
    "\n",
    "# Convert monsters to LangChain Document objects\n",
    "docs = [\n",
    "    Document(\n",
    "        page_content=f\"Monster ID: {monster['monster_id']}, Location: ({monster['lat']}, {monster['lon']})\",\n",
    "        metadata={\"monster_id\": monster[\"monster_id\"], \"latitude\": monster[\"lat\"], \"longitude\": monster[\"lon\"]}\n",
    "    )\n",
    "    for monster in monsters\n",
    "]\n",
    "\n",
    "# Print the documents\n",
    "for doc in docs:\n",
    "    print(doc)"
   ]
  },
  {
   "cell_type": "code",
   "execution_count": 113,
   "metadata": {},
   "outputs": [
    {
     "name": "stdout",
     "output_type": "stream",
     "text": [
      "[Document(metadata={'monster_id': 'deathclaw_1', 'latitude': 17.9072, 'longitude': 85.5487}, page_content='Monster ID: deathclaw_1, Location: (17.9072, 85.5487)'), Document(metadata={'monster_id': 'deathclaw_2', 'latitude': 19.4866, 'longitude': 87.3032}, page_content='Monster ID: deathclaw_2, Location: (19.4866, 87.3032)'), Document(metadata={'monster_id': 'super_mutant_1', 'latitude': 19.163, 'longitude': 83.1134}, page_content='Monster ID: super_mutant_1, Location: (19.163, 83.1134)'), Document(metadata={'monster_id': 'super_mutant_2', 'latitude': 18.762, 'longitude': 82.8223}, page_content='Monster ID: super_mutant_2, Location: (18.762, 82.8223)'), Document(metadata={'monster_id': 'super_mutant_3', 'latitude': 20.6589, 'longitude': 87.0667}, page_content='Monster ID: super_mutant_3, Location: (20.6589, 87.0667)'), Document(metadata={'monster_id': 'super_mutant_4', 'latitude': 22.1663, 'longitude': 83.4131}, page_content='Monster ID: super_mutant_4, Location: (22.1663, 83.4131)'), Document(metadata={'monster_id': 'super_mutant_5', 'latitude': 18.7261, 'longitude': 81.6439}, page_content='Monster ID: super_mutant_5, Location: (18.7261, 81.6439)'), Document(metadata={'monster_id': 'radscorpion_1', 'latitude': 18.7888, 'longitude': 87.2045}, page_content='Monster ID: radscorpion_1, Location: (18.7888, 87.2045)'), Document(metadata={'monster_id': 'radscorpion_2', 'latitude': 21.2248, 'longitude': 86.0467}, page_content='Monster ID: radscorpion_2, Location: (21.2248, 86.0467)'), Document(metadata={'monster_id': 'radscorpion_3', 'latitude': 21.1394, 'longitude': 86.5529}, page_content='Monster ID: radscorpion_3, Location: (21.1394, 86.5529)'), Document(metadata={'monster_id': 'radscorpion_4', 'latitude': 20.4416, 'longitude': 83.6146}, page_content='Monster ID: radscorpion_4, Location: (20.4416, 83.6146)'), Document(metadata={'monster_id': 'yao_guai_1', 'latitude': 18.2524, 'longitude': 85.4507}, page_content='Monster ID: yao_guai_1, Location: (18.2524, 85.4507)'), Document(metadata={'monster_id': 'yao_guai_2', 'latitude': 21.7572, 'longitude': 83.6133}, page_content='Monster ID: yao_guai_2, Location: (21.7572, 83.6133)'), Document(metadata={'monster_id': 'yao_guai_3', 'latitude': 20.8939, 'longitude': 86.3814}, page_content='Monster ID: yao_guai_3, Location: (20.8939, 86.3814)'), Document(metadata={'monster_id': 'feral_ghoul_1', 'latitude': 21.4151, 'longitude': 85.8137}, page_content='Monster ID: feral_ghoul_1, Location: (21.4151, 85.8137)'), Document(metadata={'monster_id': 'feral_ghoul_2', 'latitude': 20.9202, 'longitude': 85.5343}, page_content='Monster ID: feral_ghoul_2, Location: (20.9202, 85.5343)'), Document(metadata={'monster_id': 'feral_ghoul_3', 'latitude': 20.7869, 'longitude': 86.8472}, page_content='Monster ID: feral_ghoul_3, Location: (20.7869, 86.8472)'), Document(metadata={'monster_id': 'feral_ghoul_4', 'latitude': 19.4718, 'longitude': 85.4349}, page_content='Monster ID: feral_ghoul_4, Location: (19.4718, 85.4349)'), Document(metadata={'monster_id': 'feral_ghoul_5', 'latitude': 18.493, 'longitude': 86.4426}, page_content='Monster ID: feral_ghoul_5, Location: (18.493, 86.4426)'), Document(metadata={'monster_id': 'feral_ghoul_6', 'latitude': 18.0319, 'longitude': 86.6467}, page_content='Monster ID: feral_ghoul_6, Location: (18.0319, 86.6467)'), Document(metadata={'monster_id': 'mirelurk_1', 'latitude': 21.1729, 'longitude': 86.3929}, page_content='Monster ID: mirelurk_1, Location: (21.1729, 86.3929)'), Document(metadata={'monster_id': 'mirelurk_2', 'latitude': 18.1102, 'longitude': 81.5449}, page_content='Monster ID: mirelurk_2, Location: (18.1102, 81.5449)'), Document(metadata={'monster_id': 'mirelurk_3', 'latitude': 20.4998, 'longitude': 86.748}, page_content='Monster ID: mirelurk_3, Location: (20.4998, 86.748)'), Document(metadata={'monster_id': 'mirelurk_4', 'latitude': 22.1243, 'longitude': 87.4568}, page_content='Monster ID: mirelurk_4, Location: (22.1243, 87.4568)'), Document(metadata={'monster_id': 'cazador_1', 'latitude': 21.049, 'longitude': 86.1059}, page_content='Monster ID: cazador_1, Location: (21.049, 86.1059)'), Document(metadata={'monster_id': 'cazador_2', 'latitude': 21.9879, 'longitude': 84.721}, page_content='Monster ID: cazador_2, Location: (21.9879, 84.721)'), Document(metadata={'monster_id': 'cazador_3', 'latitude': 20.6484, 'longitude': 84.6053}, page_content='Monster ID: cazador_3, Location: (20.6484, 84.6053)'), Document(metadata={'monster_id': 'nightstalker_1', 'latitude': 20.5998, 'longitude': 86.8436}, page_content='Monster ID: nightstalker_1, Location: (20.5998, 86.8436)'), Document(metadata={'monster_id': 'nightstalker_2', 'latitude': 21.2019, 'longitude': 83.8033}, page_content='Monster ID: nightstalker_2, Location: (21.2019, 83.8033)'), Document(metadata={'monster_id': 'bloatfly_1', 'latitude': 19.2709, 'longitude': 84.8867}, page_content='Monster ID: bloatfly_1, Location: (19.2709, 84.8867)'), Document(metadata={'monster_id': 'bloatfly_2', 'latitude': 19.6502, 'longitude': 87.1676}, page_content='Monster ID: bloatfly_2, Location: (19.6502, 87.1676)'), Document(metadata={'monster_id': 'bloatfly_3', 'latitude': 18.9548, 'longitude': 87.1801}, page_content='Monster ID: bloatfly_3, Location: (18.9548, 87.1801)'), Document(metadata={'monster_id': 'bloatfly_4', 'latitude': 18.7122, 'longitude': 87.0401}, page_content='Monster ID: bloatfly_4, Location: (18.7122, 87.0401)'), Document(metadata={'monster_id': 'bloatfly_5', 'latitude': 22.0004, 'longitude': 82.6697}, page_content='Monster ID: bloatfly_5, Location: (22.0004, 82.6697)'), Document(metadata={'monster_id': 'centaur_1', 'latitude': 19.4186, 'longitude': 84.5509}, page_content='Monster ID: centaur_1, Location: (19.4186, 84.5509)'), Document(metadata={'monster_id': 'centaur_2', 'latitude': 20.9231, 'longitude': 84.6746}, page_content='Monster ID: centaur_2, Location: (20.9231, 84.6746)')]\n"
     ]
    }
   ],
   "source": [
    "from langchain_text_splitters import RecursiveCharacterTextSplitter\n",
    "\n",
    "# Initialize text splitter\n",
    "text_splitter = RecursiveCharacterTextSplitter(chunk_size=100, chunk_overlap=0)\n",
    "\n",
    "# Split the documents\n",
    "split_docs = text_splitter.split_documents(docs)\n",
    "\n",
    "print(split_docs)"
   ]
  },
  {
   "cell_type": "code",
   "execution_count": 119,
   "metadata": {},
   "outputs": [
    {
     "name": "stdout",
     "output_type": "stream",
     "text": [
      "Collecting sentence-transformers\n",
      "  Using cached sentence_transformers-3.3.1-py3-none-any.whl.metadata (10 kB)\n",
      "Collecting transformers<5.0.0,>=4.41.0 (from sentence-transformers)\n",
      "  Using cached transformers-4.47.0-py3-none-any.whl.metadata (43 kB)\n",
      "Requirement already satisfied: tqdm in c:\\users\\kiit\\appdata\\local\\packages\\pythonsoftwarefoundation.python.3.11_qbz5n2kfra8p0\\localcache\\local-packages\\python311\\site-packages (from sentence-transformers) (4.66.2)\n",
      "Requirement already satisfied: torch>=1.11.0 in c:\\users\\kiit\\appdata\\local\\packages\\pythonsoftwarefoundation.python.3.11_qbz5n2kfra8p0\\localcache\\local-packages\\python311\\site-packages (from sentence-transformers) (2.5.1)\n",
      "Requirement already satisfied: scikit-learn in c:\\users\\kiit\\appdata\\local\\packages\\pythonsoftwarefoundation.python.3.11_qbz5n2kfra8p0\\localcache\\local-packages\\python311\\site-packages (from sentence-transformers) (1.6.0)\n",
      "Requirement already satisfied: scipy in c:\\users\\kiit\\appdata\\local\\packages\\pythonsoftwarefoundation.python.3.11_qbz5n2kfra8p0\\localcache\\local-packages\\python311\\site-packages (from sentence-transformers) (1.14.1)\n",
      "Requirement already satisfied: huggingface-hub>=0.20.0 in c:\\users\\kiit\\appdata\\local\\packages\\pythonsoftwarefoundation.python.3.11_qbz5n2kfra8p0\\localcache\\local-packages\\python311\\site-packages (from sentence-transformers) (0.26.5)\n",
      "Requirement already satisfied: Pillow in c:\\users\\kiit\\appdata\\local\\packages\\pythonsoftwarefoundation.python.3.11_qbz5n2kfra8p0\\localcache\\local-packages\\python311\\site-packages (from sentence-transformers) (11.0.0)\n",
      "Requirement already satisfied: filelock in c:\\users\\kiit\\appdata\\local\\packages\\pythonsoftwarefoundation.python.3.11_qbz5n2kfra8p0\\localcache\\local-packages\\python311\\site-packages (from huggingface-hub>=0.20.0->sentence-transformers) (3.16.1)\n",
      "Requirement already satisfied: fsspec>=2023.5.0 in c:\\users\\kiit\\appdata\\local\\packages\\pythonsoftwarefoundation.python.3.11_qbz5n2kfra8p0\\localcache\\local-packages\\python311\\site-packages (from huggingface-hub>=0.20.0->sentence-transformers) (2024.10.0)\n",
      "Requirement already satisfied: packaging>=20.9 in c:\\users\\kiit\\appdata\\local\\packages\\pythonsoftwarefoundation.python.3.11_qbz5n2kfra8p0\\localcache\\local-packages\\python311\\site-packages (from huggingface-hub>=0.20.0->sentence-transformers) (24.1)\n",
      "Requirement already satisfied: pyyaml>=5.1 in c:\\users\\kiit\\appdata\\local\\packages\\pythonsoftwarefoundation.python.3.11_qbz5n2kfra8p0\\localcache\\local-packages\\python311\\site-packages (from huggingface-hub>=0.20.0->sentence-transformers) (6.0.2)\n",
      "Requirement already satisfied: requests in c:\\users\\kiit\\appdata\\local\\packages\\pythonsoftwarefoundation.python.3.11_qbz5n2kfra8p0\\localcache\\local-packages\\python311\\site-packages (from huggingface-hub>=0.20.0->sentence-transformers) (2.32.3)\n",
      "Requirement already satisfied: typing-extensions>=3.7.4.3 in c:\\users\\kiit\\appdata\\local\\packages\\pythonsoftwarefoundation.python.3.11_qbz5n2kfra8p0\\localcache\\local-packages\\python311\\site-packages (from huggingface-hub>=0.20.0->sentence-transformers) (4.12.2)\n",
      "Requirement already satisfied: networkx in c:\\users\\kiit\\appdata\\local\\packages\\pythonsoftwarefoundation.python.3.11_qbz5n2kfra8p0\\localcache\\local-packages\\python311\\site-packages (from torch>=1.11.0->sentence-transformers) (3.4.2)\n",
      "Requirement already satisfied: jinja2 in c:\\users\\kiit\\appdata\\local\\packages\\pythonsoftwarefoundation.python.3.11_qbz5n2kfra8p0\\localcache\\local-packages\\python311\\site-packages (from torch>=1.11.0->sentence-transformers) (3.1.4)\n",
      "Requirement already satisfied: sympy==1.13.1 in c:\\users\\kiit\\appdata\\local\\packages\\pythonsoftwarefoundation.python.3.11_qbz5n2kfra8p0\\localcache\\local-packages\\python311\\site-packages (from torch>=1.11.0->sentence-transformers) (1.13.1)\n",
      "Requirement already satisfied: mpmath<1.4,>=1.1.0 in c:\\users\\kiit\\appdata\\local\\packages\\pythonsoftwarefoundation.python.3.11_qbz5n2kfra8p0\\localcache\\local-packages\\python311\\site-packages (from sympy==1.13.1->torch>=1.11.0->sentence-transformers) (1.3.0)\n",
      "Requirement already satisfied: colorama in c:\\users\\kiit\\appdata\\local\\packages\\pythonsoftwarefoundation.python.3.11_qbz5n2kfra8p0\\localcache\\local-packages\\python311\\site-packages (from tqdm->sentence-transformers) (0.4.6)\n",
      "Requirement already satisfied: numpy>=1.17 in c:\\users\\kiit\\appdata\\local\\packages\\pythonsoftwarefoundation.python.3.11_qbz5n2kfra8p0\\localcache\\local-packages\\python311\\site-packages (from transformers<5.0.0,>=4.41.0->sentence-transformers) (1.26.4)\n",
      "Requirement already satisfied: regex!=2019.12.17 in c:\\users\\kiit\\appdata\\local\\packages\\pythonsoftwarefoundation.python.3.11_qbz5n2kfra8p0\\localcache\\local-packages\\python311\\site-packages (from transformers<5.0.0,>=4.41.0->sentence-transformers) (2024.4.16)\n",
      "Requirement already satisfied: tokenizers<0.22,>=0.21 in c:\\users\\kiit\\appdata\\local\\packages\\pythonsoftwarefoundation.python.3.11_qbz5n2kfra8p0\\localcache\\local-packages\\python311\\site-packages (from transformers<5.0.0,>=4.41.0->sentence-transformers) (0.21.0)\n",
      "Requirement already satisfied: safetensors>=0.4.1 in c:\\users\\kiit\\appdata\\local\\packages\\pythonsoftwarefoundation.python.3.11_qbz5n2kfra8p0\\localcache\\local-packages\\python311\\site-packages (from transformers<5.0.0,>=4.41.0->sentence-transformers) (0.4.5)\n",
      "Requirement already satisfied: joblib>=1.2.0 in c:\\users\\kiit\\appdata\\local\\packages\\pythonsoftwarefoundation.python.3.11_qbz5n2kfra8p0\\localcache\\local-packages\\python311\\site-packages (from scikit-learn->sentence-transformers) (1.4.0)\n",
      "Requirement already satisfied: threadpoolctl>=3.1.0 in c:\\users\\kiit\\appdata\\local\\packages\\pythonsoftwarefoundation.python.3.11_qbz5n2kfra8p0\\localcache\\local-packages\\python311\\site-packages (from scikit-learn->sentence-transformers) (3.5.0)\n",
      "Requirement already satisfied: MarkupSafe>=2.0 in c:\\users\\kiit\\appdata\\local\\packages\\pythonsoftwarefoundation.python.3.11_qbz5n2kfra8p0\\localcache\\local-packages\\python311\\site-packages (from jinja2->torch>=1.11.0->sentence-transformers) (3.0.2)\n",
      "Requirement already satisfied: charset-normalizer<4,>=2 in c:\\users\\kiit\\appdata\\local\\packages\\pythonsoftwarefoundation.python.3.11_qbz5n2kfra8p0\\localcache\\local-packages\\python311\\site-packages (from requests->huggingface-hub>=0.20.0->sentence-transformers) (3.4.0)\n",
      "Requirement already satisfied: idna<4,>=2.5 in c:\\users\\kiit\\appdata\\local\\packages\\pythonsoftwarefoundation.python.3.11_qbz5n2kfra8p0\\localcache\\local-packages\\python311\\site-packages (from requests->huggingface-hub>=0.20.0->sentence-transformers) (3.10)\n",
      "Requirement already satisfied: urllib3<3,>=1.21.1 in c:\\users\\kiit\\appdata\\local\\packages\\pythonsoftwarefoundation.python.3.11_qbz5n2kfra8p0\\localcache\\local-packages\\python311\\site-packages (from requests->huggingface-hub>=0.20.0->sentence-transformers) (2.2.3)\n",
      "Requirement already satisfied: certifi>=2017.4.17 in c:\\users\\kiit\\appdata\\local\\packages\\pythonsoftwarefoundation.python.3.11_qbz5n2kfra8p0\\localcache\\local-packages\\python311\\site-packages (from requests->huggingface-hub>=0.20.0->sentence-transformers) (2024.12.14)\n",
      "Using cached sentence_transformers-3.3.1-py3-none-any.whl (268 kB)\n",
      "Using cached transformers-4.47.0-py3-none-any.whl (10.1 MB)\n",
      "Installing collected packages: transformers, sentence-transformers\n",
      "Note: you may need to restart the kernel to use updated packages.\n"
     ]
    },
    {
     "name": "stderr",
     "output_type": "stream",
     "text": [
      "ERROR: Could not install packages due to an OSError: [Errno 2] No such file or directory: 'C:\\\\Users\\\\KIIT\\\\AppData\\\\Local\\\\Packages\\\\PythonSoftwareFoundation.Python.3.11_qbz5n2kfra8p0\\\\LocalCache\\\\local-packages\\\\Python311\\\\site-packages\\\\transformers\\\\models\\\\deprecated\\\\trajectory_transformer\\\\convert_trajectory_transformer_original_pytorch_checkpoint_to_pytorch.py'\n",
      "HINT: This error might have occurred since this system does not have Windows Long Path support enabled. You can find information on how to enable this at https://pip.pypa.io/warnings/enable-long-paths\n",
      "\n",
      "\n",
      "[notice] A new release of pip is available: 24.0 -> 24.3.1\n",
      "[notice] To update, run: C:\\Users\\KIIT\\AppData\\Local\\Microsoft\\WindowsApps\\PythonSoftwareFoundation.Python.3.11_qbz5n2kfra8p0\\python.exe -m pip install --upgrade pip\n"
     ]
    }
   ],
   "source": [
    "%pip install sentence-transformers"
   ]
  },
  {
   "cell_type": "code",
   "execution_count": 118,
   "metadata": {},
   "outputs": [
    {
     "ename": "ModuleNotFoundError",
     "evalue": "No module named 'sentence_transformers'",
     "output_type": "error",
     "traceback": [
      "\u001b[1;31m---------------------------------------------------------------------------\u001b[0m",
      "\u001b[1;31mModuleNotFoundError\u001b[0m                       Traceback (most recent call last)",
      "Cell \u001b[1;32mIn[118], line 1\u001b[0m\n\u001b[1;32m----> 1\u001b[0m \u001b[38;5;28;01mfrom\u001b[39;00m \u001b[38;5;21;01msentence_transformers\u001b[39;00m \u001b[38;5;28;01mimport\u001b[39;00m SentenceTransformer\n\u001b[0;32m      2\u001b[0m \u001b[38;5;28;01mfrom\u001b[39;00m \u001b[38;5;21;01mlangchain_community\u001b[39;00m\u001b[38;5;21;01m.\u001b[39;00m\u001b[38;5;21;01mvectorstores\u001b[39;00m \u001b[38;5;28;01mimport\u001b[39;00m FAISS\n\u001b[0;32m      3\u001b[0m \u001b[38;5;28;01mfrom\u001b[39;00m \u001b[38;5;21;01mlangchain\u001b[39;00m\u001b[38;5;21;01m.\u001b[39;00m\u001b[38;5;21;01mschema\u001b[39;00m \u001b[38;5;28;01mimport\u001b[39;00m Document\n",
      "\u001b[1;31mModuleNotFoundError\u001b[0m: No module named 'sentence_transformers'"
     ]
    }
   ],
   "source": [
    "from sentence_transformers import SentenceTransformer\n",
    "from langchain_community.vectorstores import FAISS\n",
    "from langchain.schema import Document\n",
    "import json\n",
    "import time\n",
    "\n",
    "# Load your monsters JSON data\n",
    "with open(\"../../monsters_response.json\", \"r\") as file:\n",
    "    data = json.load(file)\n",
    "\n",
    "# Prepare documents for embedding\n",
    "split_docs = []\n",
    "for monster in data.get(\"monsters\", []):\n",
    "    content = f\"Monster ID: {monster['monster_id']}, Location: ({monster['lon']}, {monster['lat']})\"\n",
    "    split_docs.append(Document(page_content=content, metadata={\"monster_id\": monster[\"monster_id\"]}))\n",
    "\n",
    "print(f\"Total documents to process: {len(split_docs)}\")\n",
    "\n",
    "# Initialize SentenceTransformer model (Hugging Face model)\n",
    "model = SentenceTransformer('all-MiniLM-L6-v2')  # This is a popular lightweight model for embeddings\n",
    "\n",
    "# Define batch size\n",
    "BATCH_SIZE = 10\n",
    "all_vectors = []\n",
    "all_metadatas = []\n",
    "\n",
    "# Process documents in batches\n",
    "for i in range(0, len(split_docs), BATCH_SIZE):\n",
    "    batch = split_docs[i:i + BATCH_SIZE]\n",
    "    print(f\"Processing batch {i // BATCH_SIZE + 1}: {len(batch)} documents\")\n",
    "\n",
    "    try:\n",
    "        # Extract content and metadata\n",
    "        batch_texts = [doc.page_content for doc in batch]\n",
    "        batch_metadatas = [doc.metadata for doc in batch]\n",
    "\n",
    "        # Generate embeddings for the current batch\n",
    "        batch_vectors = model.encode(batch_texts)  # Generate embeddings using SentenceTransformer\n",
    "\n",
    "        # Append to the global lists\n",
    "        all_vectors.extend(batch_vectors)\n",
    "        all_metadatas.extend(batch_metadatas)\n",
    "\n",
    "        # Optional: Add delay to avoid hitting rate limits\n",
    "        time.sleep(1)  # Adjust as needed\n",
    "\n",
    "    except Exception as e:\n",
    "        print(f\"Error processing batch {i // BATCH_SIZE + 1}: {e}\")\n",
    "\n",
    "# Store embeddings and metadata in FAISS\n",
    "print(\"Storing vectors in FAISS...\")\n",
    "vector_store = FAISS.from_embeddings(all_vectors, all_metadatas)\n",
    "\n",
    "# Save vector store locally\n",
    "vector_store.save_local(\"faiss_index\")\n",
    "print(\"FAISS vector store saved successfully.\")"
   ]
  },
  {
   "cell_type": "code",
   "execution_count": null,
   "metadata": {},
   "outputs": [],
   "source": []
  },
  {
   "cell_type": "code",
   "execution_count": null,
   "metadata": {},
   "outputs": [],
   "source": []
  }
 ],
 "metadata": {
  "kernelspec": {
   "display_name": "Python 3",
   "language": "python",
   "name": "python3"
  },
  "language_info": {
   "codemirror_mode": {
    "name": "ipython",
    "version": 3
   },
   "file_extension": ".py",
   "mimetype": "text/x-python",
   "name": "python",
   "nbconvert_exporter": "python",
   "pygments_lexer": "ipython3",
   "version": "3.11.9"
  }
 },
 "nbformat": 4,
 "nbformat_minor": 2
}
