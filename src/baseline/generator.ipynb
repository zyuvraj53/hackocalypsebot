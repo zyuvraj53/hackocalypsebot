{
 "cells": [
  {
   "cell_type": "code",
   "execution_count": 107,
   "metadata": {},
   "outputs": [],
   "source": [
    "import langchain_community \n",
    "import langchain\n",
    "import langchain_openai"
   ]
  },
  {
   "cell_type": "code",
   "execution_count": 108,
   "metadata": {},
   "outputs": [],
   "source": [
    "import os\n",
    "os.environ['LANGCHAIN_TRACING_V2'] = 'true'\n",
    "os.environ['LANGCHAIN_ENDPOINT'] = 'https://api.smith.langchain.com'\n",
    "os.environ['LANGCHAIN_API_KEY'] = '<api-key>'"
   ]
  },
  {
   "cell_type": "code",
   "execution_count": 109,
   "metadata": {},
   "outputs": [],
   "source": []
  },
  {
   "cell_type": "code",
   "execution_count": 110,
   "metadata": {},
   "outputs": [],
   "source": [
    "os.environ['OPENAI_API_KEY'] = '<api-key>'"
   ]
  },
  {
   "cell_type": "code",
   "execution_count": 111,
   "metadata": {},
   "outputs": [
    {
     "name": "stdout",
     "output_type": "stream",
     "text": [
      "[{'monster_id': 'deathclaw_1', 'lon': 85.5487, 'lat': 17.9072}, {'monster_id': 'deathclaw_2', 'lon': 87.3032, 'lat': 19.4866}, {'monster_id': 'super_mutant_1', 'lon': 83.1134, 'lat': 19.163}, {'monster_id': 'super_mutant_2', 'lon': 82.8223, 'lat': 18.762}, {'monster_id': 'super_mutant_3', 'lon': 87.0667, 'lat': 20.6589}, {'monster_id': 'super_mutant_4', 'lon': 83.4131, 'lat': 22.1663}, {'monster_id': 'super_mutant_5', 'lon': 81.6439, 'lat': 18.7261}, {'monster_id': 'radscorpion_1', 'lon': 87.2045, 'lat': 18.7888}, {'monster_id': 'radscorpion_2', 'lon': 86.0467, 'lat': 21.2248}, {'monster_id': 'radscorpion_3', 'lon': 86.5529, 'lat': 21.1394}, {'monster_id': 'radscorpion_4', 'lon': 83.6146, 'lat': 20.4416}, {'monster_id': 'yao_guai_1', 'lon': 85.4507, 'lat': 18.2524}, {'monster_id': 'yao_guai_2', 'lon': 83.6133, 'lat': 21.7572}, {'monster_id': 'yao_guai_3', 'lon': 86.3814, 'lat': 20.8939}, {'monster_id': 'feral_ghoul_1', 'lon': 85.8137, 'lat': 21.4151}, {'monster_id': 'feral_ghoul_2', 'lon': 85.5343, 'lat': 20.9202}, {'monster_id': 'feral_ghoul_3', 'lon': 86.8472, 'lat': 20.7869}, {'monster_id': 'feral_ghoul_4', 'lon': 85.4349, 'lat': 19.4718}, {'monster_id': 'feral_ghoul_5', 'lon': 86.4426, 'lat': 18.493}, {'monster_id': 'feral_ghoul_6', 'lon': 86.6467, 'lat': 18.0319}, {'monster_id': 'mirelurk_1', 'lon': 86.3929, 'lat': 21.1729}, {'monster_id': 'mirelurk_2', 'lon': 81.5449, 'lat': 18.1102}, {'monster_id': 'mirelurk_3', 'lon': 86.748, 'lat': 20.4998}, {'monster_id': 'mirelurk_4', 'lon': 87.4568, 'lat': 22.1243}, {'monster_id': 'cazador_1', 'lon': 86.1059, 'lat': 21.049}, {'monster_id': 'cazador_2', 'lon': 84.721, 'lat': 21.9879}, {'monster_id': 'cazador_3', 'lon': 84.6053, 'lat': 20.6484}, {'monster_id': 'nightstalker_1', 'lon': 86.8436, 'lat': 20.5998}, {'monster_id': 'nightstalker_2', 'lon': 83.8033, 'lat': 21.2019}, {'monster_id': 'bloatfly_1', 'lon': 84.8867, 'lat': 19.2709}, {'monster_id': 'bloatfly_2', 'lon': 87.1676, 'lat': 19.6502}, {'monster_id': 'bloatfly_3', 'lon': 87.1801, 'lat': 18.9548}, {'monster_id': 'bloatfly_4', 'lon': 87.0401, 'lat': 18.7122}, {'monster_id': 'bloatfly_5', 'lon': 82.6697, 'lat': 22.0004}, {'monster_id': 'centaur_1', 'lon': 84.5509, 'lat': 19.4186}, {'monster_id': 'centaur_2', 'lon': 84.6746, 'lat': 20.9231}]\n"
     ]
    }
   ],
   "source": [
    "import json\n",
    "\n",
    "# Load the JSON data\n",
    "with open(\"../../monsters_response.json\", \"r\") as file:\n",
    "    json_data = json.load(file)\n",
    "\n",
    "# Extract the monsters list\n",
    "monsters = json_data[\"monsters\"]\n",
    "\n",
    "print(monsters)"
   ]
  },
  {
   "cell_type": "code",
   "execution_count": 112,
   "metadata": {},
   "outputs": [
    {
     "name": "stdout",
     "output_type": "stream",
     "text": [
      "page_content='Monster ID: deathclaw_1, Location: (17.9072, 85.5487)' metadata={'monster_id': 'deathclaw_1', 'latitude': 17.9072, 'longitude': 85.5487}\n",
      "page_content='Monster ID: deathclaw_2, Location: (19.4866, 87.3032)' metadata={'monster_id': 'deathclaw_2', 'latitude': 19.4866, 'longitude': 87.3032}\n",
      "page_content='Monster ID: super_mutant_1, Location: (19.163, 83.1134)' metadata={'monster_id': 'super_mutant_1', 'latitude': 19.163, 'longitude': 83.1134}\n",
      "page_content='Monster ID: super_mutant_2, Location: (18.762, 82.8223)' metadata={'monster_id': 'super_mutant_2', 'latitude': 18.762, 'longitude': 82.8223}\n",
      "page_content='Monster ID: super_mutant_3, Location: (20.6589, 87.0667)' metadata={'monster_id': 'super_mutant_3', 'latitude': 20.6589, 'longitude': 87.0667}\n",
      "page_content='Monster ID: super_mutant_4, Location: (22.1663, 83.4131)' metadata={'monster_id': 'super_mutant_4', 'latitude': 22.1663, 'longitude': 83.4131}\n",
      "page_content='Monster ID: super_mutant_5, Location: (18.7261, 81.6439)' metadata={'monster_id': 'super_mutant_5', 'latitude': 18.7261, 'longitude': 81.6439}\n",
      "page_content='Monster ID: radscorpion_1, Location: (18.7888, 87.2045)' metadata={'monster_id': 'radscorpion_1', 'latitude': 18.7888, 'longitude': 87.2045}\n",
      "page_content='Monster ID: radscorpion_2, Location: (21.2248, 86.0467)' metadata={'monster_id': 'radscorpion_2', 'latitude': 21.2248, 'longitude': 86.0467}\n",
      "page_content='Monster ID: radscorpion_3, Location: (21.1394, 86.5529)' metadata={'monster_id': 'radscorpion_3', 'latitude': 21.1394, 'longitude': 86.5529}\n",
      "page_content='Monster ID: radscorpion_4, Location: (20.4416, 83.6146)' metadata={'monster_id': 'radscorpion_4', 'latitude': 20.4416, 'longitude': 83.6146}\n",
      "page_content='Monster ID: yao_guai_1, Location: (18.2524, 85.4507)' metadata={'monster_id': 'yao_guai_1', 'latitude': 18.2524, 'longitude': 85.4507}\n",
      "page_content='Monster ID: yao_guai_2, Location: (21.7572, 83.6133)' metadata={'monster_id': 'yao_guai_2', 'latitude': 21.7572, 'longitude': 83.6133}\n",
      "page_content='Monster ID: yao_guai_3, Location: (20.8939, 86.3814)' metadata={'monster_id': 'yao_guai_3', 'latitude': 20.8939, 'longitude': 86.3814}\n",
      "page_content='Monster ID: feral_ghoul_1, Location: (21.4151, 85.8137)' metadata={'monster_id': 'feral_ghoul_1', 'latitude': 21.4151, 'longitude': 85.8137}\n",
      "page_content='Monster ID: feral_ghoul_2, Location: (20.9202, 85.5343)' metadata={'monster_id': 'feral_ghoul_2', 'latitude': 20.9202, 'longitude': 85.5343}\n",
      "page_content='Monster ID: feral_ghoul_3, Location: (20.7869, 86.8472)' metadata={'monster_id': 'feral_ghoul_3', 'latitude': 20.7869, 'longitude': 86.8472}\n",
      "page_content='Monster ID: feral_ghoul_4, Location: (19.4718, 85.4349)' metadata={'monster_id': 'feral_ghoul_4', 'latitude': 19.4718, 'longitude': 85.4349}\n",
      "page_content='Monster ID: feral_ghoul_5, Location: (18.493, 86.4426)' metadata={'monster_id': 'feral_ghoul_5', 'latitude': 18.493, 'longitude': 86.4426}\n",
      "page_content='Monster ID: feral_ghoul_6, Location: (18.0319, 86.6467)' metadata={'monster_id': 'feral_ghoul_6', 'latitude': 18.0319, 'longitude': 86.6467}\n",
      "page_content='Monster ID: mirelurk_1, Location: (21.1729, 86.3929)' metadata={'monster_id': 'mirelurk_1', 'latitude': 21.1729, 'longitude': 86.3929}\n",
      "page_content='Monster ID: mirelurk_2, Location: (18.1102, 81.5449)' metadata={'monster_id': 'mirelurk_2', 'latitude': 18.1102, 'longitude': 81.5449}\n",
      "page_content='Monster ID: mirelurk_3, Location: (20.4998, 86.748)' metadata={'monster_id': 'mirelurk_3', 'latitude': 20.4998, 'longitude': 86.748}\n",
      "page_content='Monster ID: mirelurk_4, Location: (22.1243, 87.4568)' metadata={'monster_id': 'mirelurk_4', 'latitude': 22.1243, 'longitude': 87.4568}\n",
      "page_content='Monster ID: cazador_1, Location: (21.049, 86.1059)' metadata={'monster_id': 'cazador_1', 'latitude': 21.049, 'longitude': 86.1059}\n",
      "page_content='Monster ID: cazador_2, Location: (21.9879, 84.721)' metadata={'monster_id': 'cazador_2', 'latitude': 21.9879, 'longitude': 84.721}\n",
      "page_content='Monster ID: cazador_3, Location: (20.6484, 84.6053)' metadata={'monster_id': 'cazador_3', 'latitude': 20.6484, 'longitude': 84.6053}\n",
      "page_content='Monster ID: nightstalker_1, Location: (20.5998, 86.8436)' metadata={'monster_id': 'nightstalker_1', 'latitude': 20.5998, 'longitude': 86.8436}\n",
      "page_content='Monster ID: nightstalker_2, Location: (21.2019, 83.8033)' metadata={'monster_id': 'nightstalker_2', 'latitude': 21.2019, 'longitude': 83.8033}\n",
      "page_content='Monster ID: bloatfly_1, Location: (19.2709, 84.8867)' metadata={'monster_id': 'bloatfly_1', 'latitude': 19.2709, 'longitude': 84.8867}\n",
      "page_content='Monster ID: bloatfly_2, Location: (19.6502, 87.1676)' metadata={'monster_id': 'bloatfly_2', 'latitude': 19.6502, 'longitude': 87.1676}\n",
      "page_content='Monster ID: bloatfly_3, Location: (18.9548, 87.1801)' metadata={'monster_id': 'bloatfly_3', 'latitude': 18.9548, 'longitude': 87.1801}\n",
      "page_content='Monster ID: bloatfly_4, Location: (18.7122, 87.0401)' metadata={'monster_id': 'bloatfly_4', 'latitude': 18.7122, 'longitude': 87.0401}\n",
      "page_content='Monster ID: bloatfly_5, Location: (22.0004, 82.6697)' metadata={'monster_id': 'bloatfly_5', 'latitude': 22.0004, 'longitude': 82.6697}\n",
      "page_content='Monster ID: centaur_1, Location: (19.4186, 84.5509)' metadata={'monster_id': 'centaur_1', 'latitude': 19.4186, 'longitude': 84.5509}\n",
      "page_content='Monster ID: centaur_2, Location: (20.9231, 84.6746)' metadata={'monster_id': 'centaur_2', 'latitude': 20.9231, 'longitude': 84.6746}\n"
     ]
    }
   ],
   "source": [
    "from langchain_core.documents import Document\n",
    "\n",
    "# Convert monsters to LangChain Document objects\n",
    "docs = [\n",
    "    Document(\n",
    "        page_content=f\"Monster ID: {monster['monster_id']}, Location: ({monster['lat']}, {monster['lon']})\",\n",
    "        metadata={\"monster_id\": monster[\"monster_id\"], \"latitude\": monster[\"lat\"], \"longitude\": monster[\"lon\"]}\n",
    "    )\n",
    "    for monster in monsters\n",
    "]\n",
    "\n",
    "# Print the documents\n",
    "for doc in docs:\n",
    "    print(doc)"
   ]
  },
  {
   "cell_type": "code",
   "execution_count": 113,
   "metadata": {},
   "outputs": [
    {
     "name": "stdout",
     "output_type": "stream",
     "text": [
      "[Document(metadata={'monster_id': 'deathclaw_1', 'latitude': 17.9072, 'longitude': 85.5487}, page_content='Monster ID: deathclaw_1, Location: (17.9072, 85.5487)'), Document(metadata={'monster_id': 'deathclaw_2', 'latitude': 19.4866, 'longitude': 87.3032}, page_content='Monster ID: deathclaw_2, Location: (19.4866, 87.3032)'), Document(metadata={'monster_id': 'super_mutant_1', 'latitude': 19.163, 'longitude': 83.1134}, page_content='Monster ID: super_mutant_1, Location: (19.163, 83.1134)'), Document(metadata={'monster_id': 'super_mutant_2', 'latitude': 18.762, 'longitude': 82.8223}, page_content='Monster ID: super_mutant_2, Location: (18.762, 82.8223)'), Document(metadata={'monster_id': 'super_mutant_3', 'latitude': 20.6589, 'longitude': 87.0667}, page_content='Monster ID: super_mutant_3, Location: (20.6589, 87.0667)'), Document(metadata={'monster_id': 'super_mutant_4', 'latitude': 22.1663, 'longitude': 83.4131}, page_content='Monster ID: super_mutant_4, Location: (22.1663, 83.4131)'), Document(metadata={'monster_id': 'super_mutant_5', 'latitude': 18.7261, 'longitude': 81.6439}, page_content='Monster ID: super_mutant_5, Location: (18.7261, 81.6439)'), Document(metadata={'monster_id': 'radscorpion_1', 'latitude': 18.7888, 'longitude': 87.2045}, page_content='Monster ID: radscorpion_1, Location: (18.7888, 87.2045)'), Document(metadata={'monster_id': 'radscorpion_2', 'latitude': 21.2248, 'longitude': 86.0467}, page_content='Monster ID: radscorpion_2, Location: (21.2248, 86.0467)'), Document(metadata={'monster_id': 'radscorpion_3', 'latitude': 21.1394, 'longitude': 86.5529}, page_content='Monster ID: radscorpion_3, Location: (21.1394, 86.5529)'), Document(metadata={'monster_id': 'radscorpion_4', 'latitude': 20.4416, 'longitude': 83.6146}, page_content='Monster ID: radscorpion_4, Location: (20.4416, 83.6146)'), Document(metadata={'monster_id': 'yao_guai_1', 'latitude': 18.2524, 'longitude': 85.4507}, page_content='Monster ID: yao_guai_1, Location: (18.2524, 85.4507)'), Document(metadata={'monster_id': 'yao_guai_2', 'latitude': 21.7572, 'longitude': 83.6133}, page_content='Monster ID: yao_guai_2, Location: (21.7572, 83.6133)'), Document(metadata={'monster_id': 'yao_guai_3', 'latitude': 20.8939, 'longitude': 86.3814}, page_content='Monster ID: yao_guai_3, Location: (20.8939, 86.3814)'), Document(metadata={'monster_id': 'feral_ghoul_1', 'latitude': 21.4151, 'longitude': 85.8137}, page_content='Monster ID: feral_ghoul_1, Location: (21.4151, 85.8137)'), Document(metadata={'monster_id': 'feral_ghoul_2', 'latitude': 20.9202, 'longitude': 85.5343}, page_content='Monster ID: feral_ghoul_2, Location: (20.9202, 85.5343)'), Document(metadata={'monster_id': 'feral_ghoul_3', 'latitude': 20.7869, 'longitude': 86.8472}, page_content='Monster ID: feral_ghoul_3, Location: (20.7869, 86.8472)'), Document(metadata={'monster_id': 'feral_ghoul_4', 'latitude': 19.4718, 'longitude': 85.4349}, page_content='Monster ID: feral_ghoul_4, Location: (19.4718, 85.4349)'), Document(metadata={'monster_id': 'feral_ghoul_5', 'latitude': 18.493, 'longitude': 86.4426}, page_content='Monster ID: feral_ghoul_5, Location: (18.493, 86.4426)'), Document(metadata={'monster_id': 'feral_ghoul_6', 'latitude': 18.0319, 'longitude': 86.6467}, page_content='Monster ID: feral_ghoul_6, Location: (18.0319, 86.6467)'), Document(metadata={'monster_id': 'mirelurk_1', 'latitude': 21.1729, 'longitude': 86.3929}, page_content='Monster ID: mirelurk_1, Location: (21.1729, 86.3929)'), Document(metadata={'monster_id': 'mirelurk_2', 'latitude': 18.1102, 'longitude': 81.5449}, page_content='Monster ID: mirelurk_2, Location: (18.1102, 81.5449)'), Document(metadata={'monster_id': 'mirelurk_3', 'latitude': 20.4998, 'longitude': 86.748}, page_content='Monster ID: mirelurk_3, Location: (20.4998, 86.748)'), Document(metadata={'monster_id': 'mirelurk_4', 'latitude': 22.1243, 'longitude': 87.4568}, page_content='Monster ID: mirelurk_4, Location: (22.1243, 87.4568)'), Document(metadata={'monster_id': 'cazador_1', 'latitude': 21.049, 'longitude': 86.1059}, page_content='Monster ID: cazador_1, Location: (21.049, 86.1059)'), Document(metadata={'monster_id': 'cazador_2', 'latitude': 21.9879, 'longitude': 84.721}, page_content='Monster ID: cazador_2, Location: (21.9879, 84.721)'), Document(metadata={'monster_id': 'cazador_3', 'latitude': 20.6484, 'longitude': 84.6053}, page_content='Monster ID: cazador_3, Location: (20.6484, 84.6053)'), Document(metadata={'monster_id': 'nightstalker_1', 'latitude': 20.5998, 'longitude': 86.8436}, page_content='Monster ID: nightstalker_1, Location: (20.5998, 86.8436)'), Document(metadata={'monster_id': 'nightstalker_2', 'latitude': 21.2019, 'longitude': 83.8033}, page_content='Monster ID: nightstalker_2, Location: (21.2019, 83.8033)'), Document(metadata={'monster_id': 'bloatfly_1', 'latitude': 19.2709, 'longitude': 84.8867}, page_content='Monster ID: bloatfly_1, Location: (19.2709, 84.8867)'), Document(metadata={'monster_id': 'bloatfly_2', 'latitude': 19.6502, 'longitude': 87.1676}, page_content='Monster ID: bloatfly_2, Location: (19.6502, 87.1676)'), Document(metadata={'monster_id': 'bloatfly_3', 'latitude': 18.9548, 'longitude': 87.1801}, page_content='Monster ID: bloatfly_3, Location: (18.9548, 87.1801)'), Document(metadata={'monster_id': 'bloatfly_4', 'latitude': 18.7122, 'longitude': 87.0401}, page_content='Monster ID: bloatfly_4, Location: (18.7122, 87.0401)'), Document(metadata={'monster_id': 'bloatfly_5', 'latitude': 22.0004, 'longitude': 82.6697}, page_content='Monster ID: bloatfly_5, Location: (22.0004, 82.6697)'), Document(metadata={'monster_id': 'centaur_1', 'latitude': 19.4186, 'longitude': 84.5509}, page_content='Monster ID: centaur_1, Location: (19.4186, 84.5509)'), Document(metadata={'monster_id': 'centaur_2', 'latitude': 20.9231, 'longitude': 84.6746}, page_content='Monster ID: centaur_2, Location: (20.9231, 84.6746)')]\n"
     ]
    }
   ],
   "source": [
    "from langchain_text_splitters import RecursiveCharacterTextSplitter\n",
    "\n",
    "# Initialize text splitter\n",
    "text_splitter = RecursiveCharacterTextSplitter(chunk_size=100, chunk_overlap=0)\n",
    "\n",
    "# Split the documents\n",
    "split_docs = text_splitter.split_documents(docs)\n",
    "\n",
    "print(split_docs)"
   ]
  },
  {
   "cell_type": "code",
   "execution_count": 127,
   "metadata": {},
   "outputs": [
    {
     "ename": "RateLimitError",
     "evalue": "Error code: 429 - {'error': {'message': 'You exceeded your current quota, please check your plan and billing details. For more information on this error, read the docs: https://platform.openai.com/docs/guides/error-codes/api-errors.', 'type': 'insufficient_quota', 'param': None, 'code': 'insufficient_quota'}}",
     "output_type": "error",
     "traceback": [
      "\u001b[1;31m---------------------------------------------------------------------------\u001b[0m",
      "\u001b[1;31mRateLimitError\u001b[0m                            Traceback (most recent call last)",
      "Cell \u001b[1;32mIn[127], line 8\u001b[0m\n\u001b[0;32m      5\u001b[0m embeddings \u001b[38;5;241m=\u001b[39m OpenAIEmbeddings()\n\u001b[0;32m      7\u001b[0m \u001b[38;5;66;03m# Store documents in FAISS\u001b[39;00m\n\u001b[1;32m----> 8\u001b[0m vector_store \u001b[38;5;241m=\u001b[39m \u001b[43mFAISS\u001b[49m\u001b[38;5;241;43m.\u001b[39;49m\u001b[43mfrom_documents\u001b[49m\u001b[43m(\u001b[49m\u001b[43msplit_docs\u001b[49m\u001b[43m,\u001b[49m\u001b[43m \u001b[49m\u001b[43membeddings\u001b[49m\u001b[43m)\u001b[49m\n\u001b[0;32m     10\u001b[0m \u001b[38;5;66;03m# Save the vector store locally\u001b[39;00m\n\u001b[0;32m     11\u001b[0m vector_store\u001b[38;5;241m.\u001b[39msave_local(\u001b[38;5;124m\"\u001b[39m\u001b[38;5;124mfaiss_index\u001b[39m\u001b[38;5;124m\"\u001b[39m)\n",
      "File \u001b[1;32m~\\AppData\\Local\\Packages\\PythonSoftwareFoundation.Python.3.11_qbz5n2kfra8p0\\LocalCache\\local-packages\\Python311\\site-packages\\langchain_core\\vectorstores\\base.py:852\u001b[0m, in \u001b[0;36mVectorStore.from_documents\u001b[1;34m(cls, documents, embedding, **kwargs)\u001b[0m\n\u001b[0;32m    849\u001b[0m     \u001b[38;5;28;01mif\u001b[39;00m \u001b[38;5;28many\u001b[39m(ids):\n\u001b[0;32m    850\u001b[0m         kwargs[\u001b[38;5;124m\"\u001b[39m\u001b[38;5;124mids\u001b[39m\u001b[38;5;124m\"\u001b[39m] \u001b[38;5;241m=\u001b[39m ids\n\u001b[1;32m--> 852\u001b[0m \u001b[38;5;28;01mreturn\u001b[39;00m \u001b[38;5;28;43mcls\u001b[39;49m\u001b[38;5;241;43m.\u001b[39;49m\u001b[43mfrom_texts\u001b[49m\u001b[43m(\u001b[49m\u001b[43mtexts\u001b[49m\u001b[43m,\u001b[49m\u001b[43m \u001b[49m\u001b[43membedding\u001b[49m\u001b[43m,\u001b[49m\u001b[43m \u001b[49m\u001b[43mmetadatas\u001b[49m\u001b[38;5;241;43m=\u001b[39;49m\u001b[43mmetadatas\u001b[49m\u001b[43m,\u001b[49m\u001b[43m \u001b[49m\u001b[38;5;241;43m*\u001b[39;49m\u001b[38;5;241;43m*\u001b[39;49m\u001b[43mkwargs\u001b[49m\u001b[43m)\u001b[49m\n",
      "File \u001b[1;32m~\\AppData\\Local\\Packages\\PythonSoftwareFoundation.Python.3.11_qbz5n2kfra8p0\\LocalCache\\local-packages\\Python311\\site-packages\\langchain_community\\vectorstores\\faiss.py:1041\u001b[0m, in \u001b[0;36mFAISS.from_texts\u001b[1;34m(cls, texts, embedding, metadatas, ids, **kwargs)\u001b[0m\n\u001b[0;32m   1014\u001b[0m \u001b[38;5;129m@classmethod\u001b[39m\n\u001b[0;32m   1015\u001b[0m \u001b[38;5;28;01mdef\u001b[39;00m \u001b[38;5;21mfrom_texts\u001b[39m(\n\u001b[0;32m   1016\u001b[0m     \u001b[38;5;28mcls\u001b[39m,\n\u001b[1;32m   (...)\u001b[0m\n\u001b[0;32m   1021\u001b[0m     \u001b[38;5;241m*\u001b[39m\u001b[38;5;241m*\u001b[39mkwargs: Any,\n\u001b[0;32m   1022\u001b[0m ) \u001b[38;5;241m-\u001b[39m\u001b[38;5;241m>\u001b[39m FAISS:\n\u001b[0;32m   1023\u001b[0m \u001b[38;5;250m    \u001b[39m\u001b[38;5;124;03m\"\"\"Construct FAISS wrapper from raw documents.\u001b[39;00m\n\u001b[0;32m   1024\u001b[0m \n\u001b[0;32m   1025\u001b[0m \u001b[38;5;124;03m    This is a user friendly interface that:\u001b[39;00m\n\u001b[1;32m   (...)\u001b[0m\n\u001b[0;32m   1039\u001b[0m \u001b[38;5;124;03m            faiss = FAISS.from_texts(texts, embeddings)\u001b[39;00m\n\u001b[0;32m   1040\u001b[0m \u001b[38;5;124;03m    \"\"\"\u001b[39;00m\n\u001b[1;32m-> 1041\u001b[0m     embeddings \u001b[38;5;241m=\u001b[39m \u001b[43membedding\u001b[49m\u001b[38;5;241;43m.\u001b[39;49m\u001b[43membed_documents\u001b[49m\u001b[43m(\u001b[49m\u001b[43mtexts\u001b[49m\u001b[43m)\u001b[49m\n\u001b[0;32m   1042\u001b[0m     \u001b[38;5;28;01mreturn\u001b[39;00m \u001b[38;5;28mcls\u001b[39m\u001b[38;5;241m.\u001b[39m__from(\n\u001b[0;32m   1043\u001b[0m         texts,\n\u001b[0;32m   1044\u001b[0m         embeddings,\n\u001b[1;32m   (...)\u001b[0m\n\u001b[0;32m   1048\u001b[0m         \u001b[38;5;241m*\u001b[39m\u001b[38;5;241m*\u001b[39mkwargs,\n\u001b[0;32m   1049\u001b[0m     )\n",
      "File \u001b[1;32m~\\AppData\\Local\\Packages\\PythonSoftwareFoundation.Python.3.11_qbz5n2kfra8p0\\LocalCache\\local-packages\\Python311\\site-packages\\langchain_community\\embeddings\\openai.py:671\u001b[0m, in \u001b[0;36mOpenAIEmbeddings.embed_documents\u001b[1;34m(self, texts, chunk_size)\u001b[0m\n\u001b[0;32m    668\u001b[0m \u001b[38;5;66;03m# NOTE: to keep things simple, we assume the list may contain texts longer\u001b[39;00m\n\u001b[0;32m    669\u001b[0m \u001b[38;5;66;03m#       than the maximum context and use length-safe embedding function.\u001b[39;00m\n\u001b[0;32m    670\u001b[0m engine \u001b[38;5;241m=\u001b[39m cast(\u001b[38;5;28mstr\u001b[39m, \u001b[38;5;28mself\u001b[39m\u001b[38;5;241m.\u001b[39mdeployment)\n\u001b[1;32m--> 671\u001b[0m \u001b[38;5;28;01mreturn\u001b[39;00m \u001b[38;5;28;43mself\u001b[39;49m\u001b[38;5;241;43m.\u001b[39;49m\u001b[43m_get_len_safe_embeddings\u001b[49m\u001b[43m(\u001b[49m\u001b[43mtexts\u001b[49m\u001b[43m,\u001b[49m\u001b[43m \u001b[49m\u001b[43mengine\u001b[49m\u001b[38;5;241;43m=\u001b[39;49m\u001b[43mengine\u001b[49m\u001b[43m)\u001b[49m\n",
      "File \u001b[1;32m~\\AppData\\Local\\Packages\\PythonSoftwareFoundation.Python.3.11_qbz5n2kfra8p0\\LocalCache\\local-packages\\Python311\\site-packages\\langchain_community\\embeddings\\openai.py:497\u001b[0m, in \u001b[0;36mOpenAIEmbeddings._get_len_safe_embeddings\u001b[1;34m(self, texts, engine, chunk_size)\u001b[0m\n\u001b[0;32m    495\u001b[0m batched_embeddings: List[List[\u001b[38;5;28mfloat\u001b[39m]] \u001b[38;5;241m=\u001b[39m []\n\u001b[0;32m    496\u001b[0m \u001b[38;5;28;01mfor\u001b[39;00m i \u001b[38;5;129;01min\u001b[39;00m _iter:\n\u001b[1;32m--> 497\u001b[0m     response \u001b[38;5;241m=\u001b[39m \u001b[43membed_with_retry\u001b[49m\u001b[43m(\u001b[49m\n\u001b[0;32m    498\u001b[0m \u001b[43m        \u001b[49m\u001b[38;5;28;43mself\u001b[39;49m\u001b[43m,\u001b[49m\n\u001b[0;32m    499\u001b[0m \u001b[43m        \u001b[49m\u001b[38;5;28;43minput\u001b[39;49m\u001b[38;5;241;43m=\u001b[39;49m\u001b[43mtokens\u001b[49m\u001b[43m[\u001b[49m\u001b[43mi\u001b[49m\u001b[43m \u001b[49m\u001b[43m:\u001b[49m\u001b[43m \u001b[49m\u001b[43mi\u001b[49m\u001b[43m \u001b[49m\u001b[38;5;241;43m+\u001b[39;49m\u001b[43m \u001b[49m\u001b[43m_chunk_size\u001b[49m\u001b[43m]\u001b[49m\u001b[43m,\u001b[49m\n\u001b[0;32m    500\u001b[0m \u001b[43m        \u001b[49m\u001b[38;5;241;43m*\u001b[39;49m\u001b[38;5;241;43m*\u001b[39;49m\u001b[38;5;28;43mself\u001b[39;49m\u001b[38;5;241;43m.\u001b[39;49m\u001b[43m_invocation_params\u001b[49m\u001b[43m,\u001b[49m\n\u001b[0;32m    501\u001b[0m \u001b[43m    \u001b[49m\u001b[43m)\u001b[49m\n\u001b[0;32m    502\u001b[0m     \u001b[38;5;28;01mif\u001b[39;00m \u001b[38;5;129;01mnot\u001b[39;00m \u001b[38;5;28misinstance\u001b[39m(response, \u001b[38;5;28mdict\u001b[39m):\n\u001b[0;32m    503\u001b[0m         response \u001b[38;5;241m=\u001b[39m response\u001b[38;5;241m.\u001b[39mdict()\n",
      "File \u001b[1;32m~\\AppData\\Local\\Packages\\PythonSoftwareFoundation.Python.3.11_qbz5n2kfra8p0\\LocalCache\\local-packages\\Python311\\site-packages\\langchain_community\\embeddings\\openai.py:120\u001b[0m, in \u001b[0;36membed_with_retry\u001b[1;34m(embeddings, **kwargs)\u001b[0m\n\u001b[0;32m    118\u001b[0m \u001b[38;5;250m\u001b[39m\u001b[38;5;124;03m\"\"\"Use tenacity to retry the embedding call.\"\"\"\u001b[39;00m\n\u001b[0;32m    119\u001b[0m \u001b[38;5;28;01mif\u001b[39;00m is_openai_v1():\n\u001b[1;32m--> 120\u001b[0m     \u001b[38;5;28;01mreturn\u001b[39;00m \u001b[43membeddings\u001b[49m\u001b[38;5;241;43m.\u001b[39;49m\u001b[43mclient\u001b[49m\u001b[38;5;241;43m.\u001b[39;49m\u001b[43mcreate\u001b[49m\u001b[43m(\u001b[49m\u001b[38;5;241;43m*\u001b[39;49m\u001b[38;5;241;43m*\u001b[39;49m\u001b[43mkwargs\u001b[49m\u001b[43m)\u001b[49m\n\u001b[0;32m    121\u001b[0m retry_decorator \u001b[38;5;241m=\u001b[39m _create_retry_decorator(embeddings)\n\u001b[0;32m    123\u001b[0m \u001b[38;5;129m@retry_decorator\u001b[39m\n\u001b[0;32m    124\u001b[0m \u001b[38;5;28;01mdef\u001b[39;00m \u001b[38;5;21m_embed_with_retry\u001b[39m(\u001b[38;5;241m*\u001b[39m\u001b[38;5;241m*\u001b[39mkwargs: Any) \u001b[38;5;241m-\u001b[39m\u001b[38;5;241m>\u001b[39m Any:\n",
      "File \u001b[1;32m~\\AppData\\Local\\Packages\\PythonSoftwareFoundation.Python.3.11_qbz5n2kfra8p0\\LocalCache\\local-packages\\Python311\\site-packages\\openai\\resources\\embeddings.py:124\u001b[0m, in \u001b[0;36mEmbeddings.create\u001b[1;34m(self, input, model, dimensions, encoding_format, user, extra_headers, extra_query, extra_body, timeout)\u001b[0m\n\u001b[0;32m    118\u001b[0m         embedding\u001b[38;5;241m.\u001b[39membedding \u001b[38;5;241m=\u001b[39m np\u001b[38;5;241m.\u001b[39mfrombuffer(  \u001b[38;5;66;03m# type: ignore[no-untyped-call]\u001b[39;00m\n\u001b[0;32m    119\u001b[0m             base64\u001b[38;5;241m.\u001b[39mb64decode(data), dtype\u001b[38;5;241m=\u001b[39m\u001b[38;5;124m\"\u001b[39m\u001b[38;5;124mfloat32\u001b[39m\u001b[38;5;124m\"\u001b[39m\n\u001b[0;32m    120\u001b[0m         )\u001b[38;5;241m.\u001b[39mtolist()\n\u001b[0;32m    122\u001b[0m     \u001b[38;5;28;01mreturn\u001b[39;00m obj\n\u001b[1;32m--> 124\u001b[0m \u001b[38;5;28;01mreturn\u001b[39;00m \u001b[38;5;28;43mself\u001b[39;49m\u001b[38;5;241;43m.\u001b[39;49m\u001b[43m_post\u001b[49m\u001b[43m(\u001b[49m\n\u001b[0;32m    125\u001b[0m \u001b[43m    \u001b[49m\u001b[38;5;124;43m\"\u001b[39;49m\u001b[38;5;124;43m/embeddings\u001b[39;49m\u001b[38;5;124;43m\"\u001b[39;49m\u001b[43m,\u001b[49m\n\u001b[0;32m    126\u001b[0m \u001b[43m    \u001b[49m\u001b[43mbody\u001b[49m\u001b[38;5;241;43m=\u001b[39;49m\u001b[43mmaybe_transform\u001b[49m\u001b[43m(\u001b[49m\u001b[43mparams\u001b[49m\u001b[43m,\u001b[49m\u001b[43m \u001b[49m\u001b[43membedding_create_params\u001b[49m\u001b[38;5;241;43m.\u001b[39;49m\u001b[43mEmbeddingCreateParams\u001b[49m\u001b[43m)\u001b[49m\u001b[43m,\u001b[49m\n\u001b[0;32m    127\u001b[0m \u001b[43m    \u001b[49m\u001b[43moptions\u001b[49m\u001b[38;5;241;43m=\u001b[39;49m\u001b[43mmake_request_options\u001b[49m\u001b[43m(\u001b[49m\n\u001b[0;32m    128\u001b[0m \u001b[43m        \u001b[49m\u001b[43mextra_headers\u001b[49m\u001b[38;5;241;43m=\u001b[39;49m\u001b[43mextra_headers\u001b[49m\u001b[43m,\u001b[49m\n\u001b[0;32m    129\u001b[0m \u001b[43m        \u001b[49m\u001b[43mextra_query\u001b[49m\u001b[38;5;241;43m=\u001b[39;49m\u001b[43mextra_query\u001b[49m\u001b[43m,\u001b[49m\n\u001b[0;32m    130\u001b[0m \u001b[43m        \u001b[49m\u001b[43mextra_body\u001b[49m\u001b[38;5;241;43m=\u001b[39;49m\u001b[43mextra_body\u001b[49m\u001b[43m,\u001b[49m\n\u001b[0;32m    131\u001b[0m \u001b[43m        \u001b[49m\u001b[43mtimeout\u001b[49m\u001b[38;5;241;43m=\u001b[39;49m\u001b[43mtimeout\u001b[49m\u001b[43m,\u001b[49m\n\u001b[0;32m    132\u001b[0m \u001b[43m        \u001b[49m\u001b[43mpost_parser\u001b[49m\u001b[38;5;241;43m=\u001b[39;49m\u001b[43mparser\u001b[49m\u001b[43m,\u001b[49m\n\u001b[0;32m    133\u001b[0m \u001b[43m    \u001b[49m\u001b[43m)\u001b[49m\u001b[43m,\u001b[49m\n\u001b[0;32m    134\u001b[0m \u001b[43m    \u001b[49m\u001b[43mcast_to\u001b[49m\u001b[38;5;241;43m=\u001b[39;49m\u001b[43mCreateEmbeddingResponse\u001b[49m\u001b[43m,\u001b[49m\n\u001b[0;32m    135\u001b[0m \u001b[43m\u001b[49m\u001b[43m)\u001b[49m\n",
      "File \u001b[1;32m~\\AppData\\Local\\Packages\\PythonSoftwareFoundation.Python.3.11_qbz5n2kfra8p0\\LocalCache\\local-packages\\Python311\\site-packages\\openai\\_base_client.py:1280\u001b[0m, in \u001b[0;36mSyncAPIClient.post\u001b[1;34m(self, path, cast_to, body, options, files, stream, stream_cls)\u001b[0m\n\u001b[0;32m   1266\u001b[0m \u001b[38;5;28;01mdef\u001b[39;00m \u001b[38;5;21mpost\u001b[39m(\n\u001b[0;32m   1267\u001b[0m     \u001b[38;5;28mself\u001b[39m,\n\u001b[0;32m   1268\u001b[0m     path: \u001b[38;5;28mstr\u001b[39m,\n\u001b[1;32m   (...)\u001b[0m\n\u001b[0;32m   1275\u001b[0m     stream_cls: \u001b[38;5;28mtype\u001b[39m[_StreamT] \u001b[38;5;241m|\u001b[39m \u001b[38;5;28;01mNone\u001b[39;00m \u001b[38;5;241m=\u001b[39m \u001b[38;5;28;01mNone\u001b[39;00m,\n\u001b[0;32m   1276\u001b[0m ) \u001b[38;5;241m-\u001b[39m\u001b[38;5;241m>\u001b[39m ResponseT \u001b[38;5;241m|\u001b[39m _StreamT:\n\u001b[0;32m   1277\u001b[0m     opts \u001b[38;5;241m=\u001b[39m FinalRequestOptions\u001b[38;5;241m.\u001b[39mconstruct(\n\u001b[0;32m   1278\u001b[0m         method\u001b[38;5;241m=\u001b[39m\u001b[38;5;124m\"\u001b[39m\u001b[38;5;124mpost\u001b[39m\u001b[38;5;124m\"\u001b[39m, url\u001b[38;5;241m=\u001b[39mpath, json_data\u001b[38;5;241m=\u001b[39mbody, files\u001b[38;5;241m=\u001b[39mto_httpx_files(files), \u001b[38;5;241m*\u001b[39m\u001b[38;5;241m*\u001b[39moptions\n\u001b[0;32m   1279\u001b[0m     )\n\u001b[1;32m-> 1280\u001b[0m     \u001b[38;5;28;01mreturn\u001b[39;00m cast(ResponseT, \u001b[38;5;28;43mself\u001b[39;49m\u001b[38;5;241;43m.\u001b[39;49m\u001b[43mrequest\u001b[49m\u001b[43m(\u001b[49m\u001b[43mcast_to\u001b[49m\u001b[43m,\u001b[49m\u001b[43m \u001b[49m\u001b[43mopts\u001b[49m\u001b[43m,\u001b[49m\u001b[43m \u001b[49m\u001b[43mstream\u001b[49m\u001b[38;5;241;43m=\u001b[39;49m\u001b[43mstream\u001b[49m\u001b[43m,\u001b[49m\u001b[43m \u001b[49m\u001b[43mstream_cls\u001b[49m\u001b[38;5;241;43m=\u001b[39;49m\u001b[43mstream_cls\u001b[49m\u001b[43m)\u001b[49m)\n",
      "File \u001b[1;32m~\\AppData\\Local\\Packages\\PythonSoftwareFoundation.Python.3.11_qbz5n2kfra8p0\\LocalCache\\local-packages\\Python311\\site-packages\\openai\\_base_client.py:957\u001b[0m, in \u001b[0;36mSyncAPIClient.request\u001b[1;34m(self, cast_to, options, remaining_retries, stream, stream_cls)\u001b[0m\n\u001b[0;32m    954\u001b[0m \u001b[38;5;28;01melse\u001b[39;00m:\n\u001b[0;32m    955\u001b[0m     retries_taken \u001b[38;5;241m=\u001b[39m \u001b[38;5;241m0\u001b[39m\n\u001b[1;32m--> 957\u001b[0m \u001b[38;5;28;01mreturn\u001b[39;00m \u001b[38;5;28;43mself\u001b[39;49m\u001b[38;5;241;43m.\u001b[39;49m\u001b[43m_request\u001b[49m\u001b[43m(\u001b[49m\n\u001b[0;32m    958\u001b[0m \u001b[43m    \u001b[49m\u001b[43mcast_to\u001b[49m\u001b[38;5;241;43m=\u001b[39;49m\u001b[43mcast_to\u001b[49m\u001b[43m,\u001b[49m\n\u001b[0;32m    959\u001b[0m \u001b[43m    \u001b[49m\u001b[43moptions\u001b[49m\u001b[38;5;241;43m=\u001b[39;49m\u001b[43moptions\u001b[49m\u001b[43m,\u001b[49m\n\u001b[0;32m    960\u001b[0m \u001b[43m    \u001b[49m\u001b[43mstream\u001b[49m\u001b[38;5;241;43m=\u001b[39;49m\u001b[43mstream\u001b[49m\u001b[43m,\u001b[49m\n\u001b[0;32m    961\u001b[0m \u001b[43m    \u001b[49m\u001b[43mstream_cls\u001b[49m\u001b[38;5;241;43m=\u001b[39;49m\u001b[43mstream_cls\u001b[49m\u001b[43m,\u001b[49m\n\u001b[0;32m    962\u001b[0m \u001b[43m    \u001b[49m\u001b[43mretries_taken\u001b[49m\u001b[38;5;241;43m=\u001b[39;49m\u001b[43mretries_taken\u001b[49m\u001b[43m,\u001b[49m\n\u001b[0;32m    963\u001b[0m \u001b[43m\u001b[49m\u001b[43m)\u001b[49m\n",
      "File \u001b[1;32m~\\AppData\\Local\\Packages\\PythonSoftwareFoundation.Python.3.11_qbz5n2kfra8p0\\LocalCache\\local-packages\\Python311\\site-packages\\openai\\_base_client.py:1046\u001b[0m, in \u001b[0;36mSyncAPIClient._request\u001b[1;34m(self, cast_to, options, retries_taken, stream, stream_cls)\u001b[0m\n\u001b[0;32m   1044\u001b[0m \u001b[38;5;28;01mif\u001b[39;00m remaining_retries \u001b[38;5;241m>\u001b[39m \u001b[38;5;241m0\u001b[39m \u001b[38;5;129;01mand\u001b[39;00m \u001b[38;5;28mself\u001b[39m\u001b[38;5;241m.\u001b[39m_should_retry(err\u001b[38;5;241m.\u001b[39mresponse):\n\u001b[0;32m   1045\u001b[0m     err\u001b[38;5;241m.\u001b[39mresponse\u001b[38;5;241m.\u001b[39mclose()\n\u001b[1;32m-> 1046\u001b[0m     \u001b[38;5;28;01mreturn\u001b[39;00m \u001b[38;5;28;43mself\u001b[39;49m\u001b[38;5;241;43m.\u001b[39;49m\u001b[43m_retry_request\u001b[49m\u001b[43m(\u001b[49m\n\u001b[0;32m   1047\u001b[0m \u001b[43m        \u001b[49m\u001b[43minput_options\u001b[49m\u001b[43m,\u001b[49m\n\u001b[0;32m   1048\u001b[0m \u001b[43m        \u001b[49m\u001b[43mcast_to\u001b[49m\u001b[43m,\u001b[49m\n\u001b[0;32m   1049\u001b[0m \u001b[43m        \u001b[49m\u001b[43mretries_taken\u001b[49m\u001b[38;5;241;43m=\u001b[39;49m\u001b[43mretries_taken\u001b[49m\u001b[43m,\u001b[49m\n\u001b[0;32m   1050\u001b[0m \u001b[43m        \u001b[49m\u001b[43mresponse_headers\u001b[49m\u001b[38;5;241;43m=\u001b[39;49m\u001b[43merr\u001b[49m\u001b[38;5;241;43m.\u001b[39;49m\u001b[43mresponse\u001b[49m\u001b[38;5;241;43m.\u001b[39;49m\u001b[43mheaders\u001b[49m\u001b[43m,\u001b[49m\n\u001b[0;32m   1051\u001b[0m \u001b[43m        \u001b[49m\u001b[43mstream\u001b[49m\u001b[38;5;241;43m=\u001b[39;49m\u001b[43mstream\u001b[49m\u001b[43m,\u001b[49m\n\u001b[0;32m   1052\u001b[0m \u001b[43m        \u001b[49m\u001b[43mstream_cls\u001b[49m\u001b[38;5;241;43m=\u001b[39;49m\u001b[43mstream_cls\u001b[49m\u001b[43m,\u001b[49m\n\u001b[0;32m   1053\u001b[0m \u001b[43m    \u001b[49m\u001b[43m)\u001b[49m\n\u001b[0;32m   1055\u001b[0m \u001b[38;5;66;03m# If the response is streamed then we need to explicitly read the response\u001b[39;00m\n\u001b[0;32m   1056\u001b[0m \u001b[38;5;66;03m# to completion before attempting to access the response text.\u001b[39;00m\n\u001b[0;32m   1057\u001b[0m \u001b[38;5;28;01mif\u001b[39;00m \u001b[38;5;129;01mnot\u001b[39;00m err\u001b[38;5;241m.\u001b[39mresponse\u001b[38;5;241m.\u001b[39mis_closed:\n",
      "File \u001b[1;32m~\\AppData\\Local\\Packages\\PythonSoftwareFoundation.Python.3.11_qbz5n2kfra8p0\\LocalCache\\local-packages\\Python311\\site-packages\\openai\\_base_client.py:1095\u001b[0m, in \u001b[0;36mSyncAPIClient._retry_request\u001b[1;34m(self, options, cast_to, retries_taken, response_headers, stream, stream_cls)\u001b[0m\n\u001b[0;32m   1091\u001b[0m \u001b[38;5;66;03m# In a synchronous context we are blocking the entire thread. Up to the library user to run the client in a\u001b[39;00m\n\u001b[0;32m   1092\u001b[0m \u001b[38;5;66;03m# different thread if necessary.\u001b[39;00m\n\u001b[0;32m   1093\u001b[0m time\u001b[38;5;241m.\u001b[39msleep(timeout)\n\u001b[1;32m-> 1095\u001b[0m \u001b[38;5;28;01mreturn\u001b[39;00m \u001b[38;5;28;43mself\u001b[39;49m\u001b[38;5;241;43m.\u001b[39;49m\u001b[43m_request\u001b[49m\u001b[43m(\u001b[49m\n\u001b[0;32m   1096\u001b[0m \u001b[43m    \u001b[49m\u001b[43moptions\u001b[49m\u001b[38;5;241;43m=\u001b[39;49m\u001b[43moptions\u001b[49m\u001b[43m,\u001b[49m\n\u001b[0;32m   1097\u001b[0m \u001b[43m    \u001b[49m\u001b[43mcast_to\u001b[49m\u001b[38;5;241;43m=\u001b[39;49m\u001b[43mcast_to\u001b[49m\u001b[43m,\u001b[49m\n\u001b[0;32m   1098\u001b[0m \u001b[43m    \u001b[49m\u001b[43mretries_taken\u001b[49m\u001b[38;5;241;43m=\u001b[39;49m\u001b[43mretries_taken\u001b[49m\u001b[43m \u001b[49m\u001b[38;5;241;43m+\u001b[39;49m\u001b[43m \u001b[49m\u001b[38;5;241;43m1\u001b[39;49m\u001b[43m,\u001b[49m\n\u001b[0;32m   1099\u001b[0m \u001b[43m    \u001b[49m\u001b[43mstream\u001b[49m\u001b[38;5;241;43m=\u001b[39;49m\u001b[43mstream\u001b[49m\u001b[43m,\u001b[49m\n\u001b[0;32m   1100\u001b[0m \u001b[43m    \u001b[49m\u001b[43mstream_cls\u001b[49m\u001b[38;5;241;43m=\u001b[39;49m\u001b[43mstream_cls\u001b[49m\u001b[43m,\u001b[49m\n\u001b[0;32m   1101\u001b[0m \u001b[43m\u001b[49m\u001b[43m)\u001b[49m\n",
      "File \u001b[1;32m~\\AppData\\Local\\Packages\\PythonSoftwareFoundation.Python.3.11_qbz5n2kfra8p0\\LocalCache\\local-packages\\Python311\\site-packages\\openai\\_base_client.py:1046\u001b[0m, in \u001b[0;36mSyncAPIClient._request\u001b[1;34m(self, cast_to, options, retries_taken, stream, stream_cls)\u001b[0m\n\u001b[0;32m   1044\u001b[0m \u001b[38;5;28;01mif\u001b[39;00m remaining_retries \u001b[38;5;241m>\u001b[39m \u001b[38;5;241m0\u001b[39m \u001b[38;5;129;01mand\u001b[39;00m \u001b[38;5;28mself\u001b[39m\u001b[38;5;241m.\u001b[39m_should_retry(err\u001b[38;5;241m.\u001b[39mresponse):\n\u001b[0;32m   1045\u001b[0m     err\u001b[38;5;241m.\u001b[39mresponse\u001b[38;5;241m.\u001b[39mclose()\n\u001b[1;32m-> 1046\u001b[0m     \u001b[38;5;28;01mreturn\u001b[39;00m \u001b[38;5;28;43mself\u001b[39;49m\u001b[38;5;241;43m.\u001b[39;49m\u001b[43m_retry_request\u001b[49m\u001b[43m(\u001b[49m\n\u001b[0;32m   1047\u001b[0m \u001b[43m        \u001b[49m\u001b[43minput_options\u001b[49m\u001b[43m,\u001b[49m\n\u001b[0;32m   1048\u001b[0m \u001b[43m        \u001b[49m\u001b[43mcast_to\u001b[49m\u001b[43m,\u001b[49m\n\u001b[0;32m   1049\u001b[0m \u001b[43m        \u001b[49m\u001b[43mretries_taken\u001b[49m\u001b[38;5;241;43m=\u001b[39;49m\u001b[43mretries_taken\u001b[49m\u001b[43m,\u001b[49m\n\u001b[0;32m   1050\u001b[0m \u001b[43m        \u001b[49m\u001b[43mresponse_headers\u001b[49m\u001b[38;5;241;43m=\u001b[39;49m\u001b[43merr\u001b[49m\u001b[38;5;241;43m.\u001b[39;49m\u001b[43mresponse\u001b[49m\u001b[38;5;241;43m.\u001b[39;49m\u001b[43mheaders\u001b[49m\u001b[43m,\u001b[49m\n\u001b[0;32m   1051\u001b[0m \u001b[43m        \u001b[49m\u001b[43mstream\u001b[49m\u001b[38;5;241;43m=\u001b[39;49m\u001b[43mstream\u001b[49m\u001b[43m,\u001b[49m\n\u001b[0;32m   1052\u001b[0m \u001b[43m        \u001b[49m\u001b[43mstream_cls\u001b[49m\u001b[38;5;241;43m=\u001b[39;49m\u001b[43mstream_cls\u001b[49m\u001b[43m,\u001b[49m\n\u001b[0;32m   1053\u001b[0m \u001b[43m    \u001b[49m\u001b[43m)\u001b[49m\n\u001b[0;32m   1055\u001b[0m \u001b[38;5;66;03m# If the response is streamed then we need to explicitly read the response\u001b[39;00m\n\u001b[0;32m   1056\u001b[0m \u001b[38;5;66;03m# to completion before attempting to access the response text.\u001b[39;00m\n\u001b[0;32m   1057\u001b[0m \u001b[38;5;28;01mif\u001b[39;00m \u001b[38;5;129;01mnot\u001b[39;00m err\u001b[38;5;241m.\u001b[39mresponse\u001b[38;5;241m.\u001b[39mis_closed:\n",
      "File \u001b[1;32m~\\AppData\\Local\\Packages\\PythonSoftwareFoundation.Python.3.11_qbz5n2kfra8p0\\LocalCache\\local-packages\\Python311\\site-packages\\openai\\_base_client.py:1095\u001b[0m, in \u001b[0;36mSyncAPIClient._retry_request\u001b[1;34m(self, options, cast_to, retries_taken, response_headers, stream, stream_cls)\u001b[0m\n\u001b[0;32m   1091\u001b[0m \u001b[38;5;66;03m# In a synchronous context we are blocking the entire thread. Up to the library user to run the client in a\u001b[39;00m\n\u001b[0;32m   1092\u001b[0m \u001b[38;5;66;03m# different thread if necessary.\u001b[39;00m\n\u001b[0;32m   1093\u001b[0m time\u001b[38;5;241m.\u001b[39msleep(timeout)\n\u001b[1;32m-> 1095\u001b[0m \u001b[38;5;28;01mreturn\u001b[39;00m \u001b[38;5;28;43mself\u001b[39;49m\u001b[38;5;241;43m.\u001b[39;49m\u001b[43m_request\u001b[49m\u001b[43m(\u001b[49m\n\u001b[0;32m   1096\u001b[0m \u001b[43m    \u001b[49m\u001b[43moptions\u001b[49m\u001b[38;5;241;43m=\u001b[39;49m\u001b[43moptions\u001b[49m\u001b[43m,\u001b[49m\n\u001b[0;32m   1097\u001b[0m \u001b[43m    \u001b[49m\u001b[43mcast_to\u001b[49m\u001b[38;5;241;43m=\u001b[39;49m\u001b[43mcast_to\u001b[49m\u001b[43m,\u001b[49m\n\u001b[0;32m   1098\u001b[0m \u001b[43m    \u001b[49m\u001b[43mretries_taken\u001b[49m\u001b[38;5;241;43m=\u001b[39;49m\u001b[43mretries_taken\u001b[49m\u001b[43m \u001b[49m\u001b[38;5;241;43m+\u001b[39;49m\u001b[43m \u001b[49m\u001b[38;5;241;43m1\u001b[39;49m\u001b[43m,\u001b[49m\n\u001b[0;32m   1099\u001b[0m \u001b[43m    \u001b[49m\u001b[43mstream\u001b[49m\u001b[38;5;241;43m=\u001b[39;49m\u001b[43mstream\u001b[49m\u001b[43m,\u001b[49m\n\u001b[0;32m   1100\u001b[0m \u001b[43m    \u001b[49m\u001b[43mstream_cls\u001b[49m\u001b[38;5;241;43m=\u001b[39;49m\u001b[43mstream_cls\u001b[49m\u001b[43m,\u001b[49m\n\u001b[0;32m   1101\u001b[0m \u001b[43m\u001b[49m\u001b[43m)\u001b[49m\n",
      "File \u001b[1;32m~\\AppData\\Local\\Packages\\PythonSoftwareFoundation.Python.3.11_qbz5n2kfra8p0\\LocalCache\\local-packages\\Python311\\site-packages\\openai\\_base_client.py:1061\u001b[0m, in \u001b[0;36mSyncAPIClient._request\u001b[1;34m(self, cast_to, options, retries_taken, stream, stream_cls)\u001b[0m\n\u001b[0;32m   1058\u001b[0m         err\u001b[38;5;241m.\u001b[39mresponse\u001b[38;5;241m.\u001b[39mread()\n\u001b[0;32m   1060\u001b[0m     log\u001b[38;5;241m.\u001b[39mdebug(\u001b[38;5;124m\"\u001b[39m\u001b[38;5;124mRe-raising status error\u001b[39m\u001b[38;5;124m\"\u001b[39m)\n\u001b[1;32m-> 1061\u001b[0m     \u001b[38;5;28;01mraise\u001b[39;00m \u001b[38;5;28mself\u001b[39m\u001b[38;5;241m.\u001b[39m_make_status_error_from_response(err\u001b[38;5;241m.\u001b[39mresponse) \u001b[38;5;28;01mfrom\u001b[39;00m \u001b[38;5;28;01mNone\u001b[39;00m\n\u001b[0;32m   1063\u001b[0m \u001b[38;5;28;01mreturn\u001b[39;00m \u001b[38;5;28mself\u001b[39m\u001b[38;5;241m.\u001b[39m_process_response(\n\u001b[0;32m   1064\u001b[0m     cast_to\u001b[38;5;241m=\u001b[39mcast_to,\n\u001b[0;32m   1065\u001b[0m     options\u001b[38;5;241m=\u001b[39moptions,\n\u001b[1;32m   (...)\u001b[0m\n\u001b[0;32m   1069\u001b[0m     retries_taken\u001b[38;5;241m=\u001b[39mretries_taken,\n\u001b[0;32m   1070\u001b[0m )\n",
      "\u001b[1;31mRateLimitError\u001b[0m: Error code: 429 - {'error': {'message': 'You exceeded your current quota, please check your plan and billing details. For more information on this error, read the docs: https://platform.openai.com/docs/guides/error-codes/api-errors.', 'type': 'insufficient_quota', 'param': None, 'code': 'insufficient_quota'}}"
     ]
    }
   ],
   "source": [
    "from langchain_community.vectorstores import FAISS\n",
    "from langchain_community.embeddings import OpenAIEmbeddings\n",
    "\n",
    "# Initialize embeddings (ensure your API key is set up for OpenAI)\n",
    "embeddings = OpenAIEmbeddings()\n",
    "\n",
    "# Store documents in FAISS\n",
    "vector_store = FAISS.from_documents(split_docs, embeddings)\n",
    "\n",
    "# Save the vector store locally\n",
    "vector_store.save_local(\"faiss_index\")"
   ]
  },
  {
   "cell_type": "code",
   "execution_count": null,
   "metadata": {},
   "outputs": [],
   "source": [
    "from langchain.chains import RetrievalQA\n",
    "from langchain_openai import ChatOpenAI\n",
    "\n",
    "# Load the retriever\n",
    "retriever = vector_store.as_retriever()\n",
    "\n",
    "# Initialize the language model\n",
    "llm = ChatOpenAI(model=\"gpt-4\", temperature=0)\n",
    "\n",
    "# Set up the RAG chain\n",
    "rag_chain = RetrievalQA.from_chain_type(\n",
    "    llm=llm,\n",
    "    retriever=retriever,\n",
    "    chain_type=\"stuff\"\n",
    ")\n",
    "\n",
    "# Query the system\n",
    "query = \"Where is deathclaw_1 located?\"\n",
    "response = rag_chain.run(query)\n",
    "\n",
    "print(response)"
   ]
  },
  {
   "cell_type": "code",
   "execution_count": null,
   "metadata": {},
   "outputs": [],
   "source": []
  }
 ],
 "metadata": {
  "kernelspec": {
   "display_name": "Python 3",
   "language": "python",
   "name": "python3"
  },
  "language_info": {
   "codemirror_mode": {
    "name": "ipython",
    "version": 3
   },
   "file_extension": ".py",
   "mimetype": "text/x-python",
   "name": "python",
   "nbconvert_exporter": "python",
   "pygments_lexer": "ipython3",
   "version": "3.11.9"
  }
 },
 "nbformat": 4,
 "nbformat_minor": 2
}
